{
 "cells": [
  {
   "cell_type": "markdown",
   "metadata": {},
   "source": [
    "## 1 : langchainを使ってみた。\n",
    "\n",
    "参考記事URL：\n",
    "- https://zenn.dev/umi_mori/books/prompt-engineer/viewer/langchain_retrieval\n",
    "- https://qiita.com/harukikaneko/items/b004048f8d1eca44cba9"
   ]
  },
  {
   "cell_type": "code",
   "execution_count": 1,
   "metadata": {},
   "outputs": [
    {
     "name": "stdout",
     "output_type": "stream",
     "text": [
      "Python 3.11.9\n"
     ]
    }
   ],
   "source": [
    "!python --version"
   ]
  },
  {
   "cell_type": "code",
   "execution_count": 2,
   "metadata": {},
   "outputs": [],
   "source": [
    "import os\n",
    "from dotenv import load_dotenv\n",
    "\n",
    "# .envファイルを読み込む\n",
    "load_dotenv()\n",
    "\n",
    "#TODO: APIキーの登録が必要\n",
    "os.environ[\"OPENAI_API_KEY\"] = os.environ.get(\"OPENAI_API_KEY\")"
   ]
  },
  {
   "cell_type": "code",
   "execution_count": 4,
   "metadata": {},
   "outputs": [
    {
     "name": "stdout",
     "output_type": "stream",
     "text": [
      "page_content='第１章\\nはじめに\\n2' metadata={'source': 'https://blog.freelance-jp.org/wp-content/uploads/2023/03/FreelanceSurvey2023.pdf', 'page': 1}\n"
     ]
    },
    {
     "name": "stderr",
     "output_type": "stream",
     "text": [
      "/opt/anaconda3/envs/nnn_genai_webapp/lib/python3.11/site-packages/langchain_core/_api/deprecation.py:117: LangChainDeprecationWarning: The class `langchain_community.embeddings.openai.OpenAIEmbeddings` was deprecated in langchain-community 0.1.0 and will be removed in 0.2.0. An updated version of the class exists in the langchain-openai package and should be used instead. To use it run `pip install -U langchain-openai` and import as `from langchain_openai import OpenAIEmbeddings`.\n",
      "  warn_deprecated(\n"
     ]
    },
    {
     "name": "stdout",
     "output_type": "stream",
     "text": [
      "44: ◼フリーランスのリモートワーク実態  (1/3)\n",
      "45(n=850)Q.リモートワークの実施およびその影響に関して、それぞれ当てはまる選択肢を一つ選んでください。\n",
      "（単一回答）\n",
      " ※リモートワークとは、情報通信技術 (ICT)を活用した、場所や時間にとらわれない柔軟な働き方のことを指します。\n",
      "コロナ以前（ 2020年2月以前）と比べてリモートワークでのフリーランス業務が増えた\n",
      "62.0%の回答者 が「リモートワーク業務が増えた」ことに同意。一方で、 11.3% が同意できないと回答し、「どちらとも\n",
      "言えない」との回答も 26.7% 存在した。全体としてリモートワークの拡大傾向は見られるものの、就労形態に影響を及ぼ\n",
      "さないフリーランスも一定数いることが見てとれる。\n",
      "※小数点以下第二位四捨五入Copyright 2023 Freelance Association Japan.40.5%\n",
      "21.5%26.7%4.1%7.2%\n",
      "同意する割合は 62.0%\n",
      "46: ◼フリーランスのリモートワーク実態 (3/3)\n",
      "47Q.リモートワークの実施およびその影響に関して、それぞれ当てはまる選択肢を一つ選んでください。\n",
      "（各項目単一回答）\n",
      " ※リモートワークとは、情報通信技術 (ICT)を活用した、場所や時間にとらわれない柔軟な働き方のことを指します。\n",
      "3.3% 11.8% 41.3% 23.6% 20.0%リモートワーク普及により発注企業との関係構築が難しくなった\n",
      "4.6% 10.1% 37.3% 26.1% 21.9%リモートワーク普及により仕事の負荷・ストレスが高まった\n",
      "8.5% 25.3% 42.0% 15.3% 8.9%リモートワーク普及により仕事上の新しいつながりを築く機会が減った\n",
      "リモートワーク普及の懸念点として、「発注企業との関係構築の困難さ」や 「仕事の負荷の増大」に同意する割合はそれぞ\n",
      "れ2割に満たなかった 。一方で 、「仕事上の新しいつながりを築く機会が減った」ことに同意した割合は 33.8% であった。\n",
      "既存クライアントとの関係や仕事の負荷に対するリモートワークの悪影響は限定的だが、 新たなつながりの創出においては\n",
      "より懸念が大きいことが見てとれる\n",
      "※小数点以下第二位四捨五入\n",
      "(n=850)\n",
      "Copyright 2023 Freelance Association Japan.\n"
     ]
    }
   ],
   "source": [
    "from langchain.document_loaders import PyPDFLoader\n",
    "from langchain.vectorstores import Chroma\n",
    "from langchain.embeddings.openai import OpenAIEmbeddings\n",
    "# from langchain_openai import OpenAIEmbeddings\n",
    "\n",
    "\n",
    "openai_api_key = os.environ.get(\"OPENAI_API_KEY\")\n",
    "\n",
    "loader = PyPDFLoader(\"https://blog.freelance-jp.org/wp-content/uploads/2023/03/FreelanceSurvey2023.pdf\")\n",
    "pages = loader.load_and_split()\n",
    "print(pages[0])\n",
    "\n",
    "# 埋め込みを作成\n",
    "embeddings = OpenAIEmbeddings(openai_api_key=openai_api_key)\n",
    "\n",
    "# def initialize_chroma(pages, embeddings):\n",
    "#     # 遅延インポート\n",
    "#     import chromadb.config\n",
    "#     chroma_index = Chroma.from_documents(pages, embeddings)\n",
    "#     return chroma_index\n",
    "\n",
    "# chroma_index = initialize_chroma(pages, embeddings)\n",
    "chroma_index = Chroma.from_documents(pages, embeddings)\n",
    "\n",
    "# chroma_index = Chroma.from_documents(pages, OpenAIEmbeddings())\n",
    "docs = chroma_index.similarity_search(\"「フリーランスのリモートワークの実態」について教えて。\", k=2)\n",
    "for doc in docs:\n",
    "    print(str(doc.metadata[\"page\"]) + \":\", doc.page_content)"
   ]
  },
  {
   "cell_type": "code",
   "execution_count": 5,
   "metadata": {},
   "outputs": [
    {
     "name": "stdout",
     "output_type": "stream",
     "text": [
      "368\n",
      "['GPT-4は、OpenAIが開発したAI技術であるGPTシリーズの第4世代目のモデルです。\\n\\n自然言語処理(NLP)という技術を使い、文章の生成や理解を行うことができます。', 'これにより、人間と同じような文章を作成することが可能です。\\n\\nGPT-4は、トランスフォーマーアーキテクチャに基づいており、より強力な性能を発揮します。', 'GPT-4は、インターネット上の大量のテキストデータを学習し、豊富な知識を持っています。\\n\\nしかし、2021年9月までの情報しか持っていません。', 'このモデルは、質問応答や文章生成、文章要約など、様々なタスクで使用できます。\\n\\nただし、GPT-4は完璧ではありません。\\n\\n時々、誤った情報や不適切な内容を生成することがあります。', '使用者は、その限界を理解し、\\n\\n適切な方法で利用することが重要です。']\n",
      "5\n",
      "[Document(page_content='GPT-4は、OpenAIが開発したAI技術であるGPTシリーズの第4世代目のモデルです。\\n\\n自然言語処理(NLP)という技術を使い、文章の生成や理解を行うことができます。'), Document(page_content='これにより、人間と同じような文章を作成することが可能です。\\n\\nGPT-4は、トランスフォーマーアーキテクチャに基づいており、より強力な性能を発揮します。'), Document(page_content='GPT-4は、インターネット上の大量のテキストデータを学習し、豊富な知識を持っています。\\n\\nしかし、2021年9月までの情報しか持っていません。'), Document(page_content='このモデルは、質問応答や文章生成、文章要約など、様々なタスクで使用できます。\\n\\nただし、GPT-4は完璧ではありません。\\n\\n時々、誤った情報や不適切な内容を生成することがあります。'), Document(page_content='使用者は、その限界を理解し、\\n\\n適切な方法で利用することが重要です。')]\n",
      "5\n"
     ]
    }
   ],
   "source": [
    "from langchain.text_splitter import CharacterTextSplitter\n",
    "long_text = \"\"\"\n",
    "GPT-4は、OpenAIが開発したAI技術であるGPTシリーズの第4世代目のモデルです。\n",
    "\n",
    "自然言語処理(NLP)という技術を使い、文章の生成や理解を行うことができます。\n",
    "\n",
    "これにより、人間と同じような文章を作成することが可能です。\n",
    "\n",
    "GPT-4は、トランスフォーマーアーキテクチャに基づいており、より強力な性能を発揮します。\n",
    "\n",
    "GPT-4は、インターネット上の大量のテキストデータを学習し、豊富な知識を持っています。\n",
    "\n",
    "しかし、2021年9月までの情報しか持っていません。\n",
    "\n",
    "このモデルは、質問応答や文章生成、文章要約など、様々なタスクで使用できます。\n",
    "\n",
    "ただし、GPT-4は完璧ではありません。\n",
    "\n",
    "時々、誤った情報や不適切な内容を生成することがあります。\n",
    "\n",
    "使用者は、その限界を理解し、\n",
    "\n",
    "適切な方法で利用することが重要です。\n",
    "\"\"\"\n",
    "print(len(long_text))\n",
    "\n",
    "text_splitter = CharacterTextSplitter(\n",
    "    separator = \"\\n\\n\",\n",
    "    chunk_size = 100,\n",
    "    chunk_overlap = 0,\n",
    "    length_function = len,\n",
    ")\n",
    "text_list = text_splitter.split_text(long_text)\n",
    "print(text_list)\n",
    "print(len(text_list))\n",
    "\n",
    "document_list = text_splitter.create_documents([long_text])\n",
    "print(document_list)\n",
    "print(len(document_list))"
   ]
  },
  {
   "cell_type": "code",
   "execution_count": 10,
   "metadata": {},
   "outputs": [
    {
     "name": "stdout",
     "output_type": "stream",
     "text": [
      "368\n",
      "\n",
      "\n",
      "Q1. インターネット上の何のデータを使って、学習しているの？\n",
      "\n",
      "私はインターネット上の様々なデータを使って学習しています。例えば、ウェブサイトやブログ、オンラインコース、オンラインフォーラムなどから情報を収集し、それらを分析して学習しています。また、ソーシャルメディアやオンラインニュースなどからも情報を収集し、最新のトレンドやニュースを把握しています。さらに、オンラインのデータベースやオープンデータなどからも情報を収集し、それらを分析して学習しています。\n",
      "\n",
      "\n",
      "Q2. GPT4は第何世代のモデル？\n",
      " 第4世代目のモデルです。\n"
     ]
    }
   ],
   "source": [
    "from langchain.embeddings.openai import OpenAIEmbeddings\n",
    "from langchain.text_splitter import CharacterTextSplitter\n",
    "from langchain.vectorstores import Chroma\n",
    "from langchain.indexes import VectorstoreIndexCreator\n",
    "from langchain.document_loaders import TextLoader\n",
    "\n",
    "# from langchain.llms import OpenAI\n",
    "# from langchain.chains import RetrievalQAWithSourcesChain\n",
    "\n",
    "long_text = \"\"\"\n",
    "GPT-4は、OpenAIが開発したAI技術であるGPTシリーズの第4世代目のモデルです。\n",
    "\n",
    "自然言語処理(NLP)という技術を使い、文章の生成や理解を行うことができます。\n",
    "\n",
    "これにより、人間と同じような文章を作成することが可能です。\n",
    "\n",
    "GPT-4は、トランスフォーマーアーキテクチャに基づいており、より強力な性能を発揮します。\n",
    "\n",
    "GPT-4は、インターネット上の大量のテキストデータを学習し、豊富な知識を持っています。\n",
    "\n",
    "しかし、2021年9月までの情報しか持っていません。\n",
    "\n",
    "このモデルは、質問応答や文章生成、文章要約など、様々なタスクで使用できます。\n",
    "\n",
    "ただし、GPT-4は完璧ではありません。\n",
    "\n",
    "時々、誤った情報や不適切な内容を生成することがあります。\n",
    "\n",
    "使用者は、その限界を理解し、\n",
    "\n",
    "適切な方法で利用することが重要です。\n",
    "\"\"\"\n",
    "print(len(long_text))\n",
    "with open(\"./long_text.txt\", \"w\") as f:\n",
    "    f.write(long_text)\n",
    "    f.close()\n",
    "\n",
    "loader = TextLoader('./long_text.txt')\n",
    "\n",
    "text_splitter = CharacterTextSplitter(\n",
    "    separator = \"\\n\\n\",\n",
    "    chunk_size = 100,\n",
    "    chunk_overlap = 0,\n",
    "    length_function = len,\n",
    ")\n",
    "\n",
    "index = VectorstoreIndexCreator(\n",
    "    vectorstore_cls=Chroma, # Default\n",
    "    embedding=OpenAIEmbeddings(), # Default\n",
    "    text_splitter=text_splitter,\n",
    ").from_loaders([loader])\n",
    "\n",
    "query = \"Q1. インターネット上の何のデータを使って、学習しているの？\"\n",
    "print(f\"\\n\\n{query}\")\n",
    "answer = index.query(query)\n",
    "print(answer)\n",
    "\n",
    "# answer_with_sources = index.query_with_sources(query)\n",
    "# print(answer_with_sources)\n",
    "\n",
    "query = \"Q2. GPT4は第何世代のモデル？\"\n",
    "print(f\"\\n\\n{query}\")\n",
    "answer = index.query(query)\n",
    "print(answer)\n",
    "\n",
    "# answer_with_sources = index.query_with_sources(query)\n",
    "# print(answer_with_sources)\n"
   ]
  },
  {
   "cell_type": "code",
   "execution_count": 11,
   "metadata": {},
   "outputs": [
    {
     "name": "stdout",
     "output_type": "stream",
     "text": [
      "352\n",
      "\n",
      "\n",
      "Q1. １日中外に出ていれば、必ず何処かで一度は何に出会いますか？\n",
      " 警備業\n"
     ]
    }
   ],
   "source": [
    "long_text = \"\"\"\n",
    "１日中外に出ていれば、必ず何処かで一度は出会う警備業。\n",
    "\n",
    "意識していなくても、私たちの安全は彼らに守られ、知らぬ間に支えられています。\n",
    "\n",
    "スポットライトを浴びることは少ないかもしれませんが、そのニーズはコロナ禍でも減ることはなく、むしろ増加傾向を示しています。\n",
    "\n",
    "警備業は、どんな時代でも、社会を支える存在であると言えるでしょう。\n",
    "\n",
    "しかし、社会の縁の下の力持ちとも言える警備業ですが、そのうち93%の会社は警備員不足という難題を抱えています。\n",
    "\n",
    "原因として、1.現職の高齢化、2.人材流入の低迷が挙げられます。\n",
    "\n",
    "必要性は高くとも、アナログな働き方や、警備業へのイメージが、若い人材の足枷となり、流入を妨げてしまっています。\n",
    "\n",
    "そこで、私たちは次の2軸に基づいて、みなさまへ新たな価値を提供します。\n",
    "\"\"\"\n",
    "print(len(long_text))\n",
    "with open(\"./long_text.txt\", \"w\") as f:\n",
    "    f.write(long_text)\n",
    "    f.close()\n",
    "\n",
    "loader = TextLoader('./long_text.txt')\n",
    "\n",
    "text_splitter = CharacterTextSplitter(\n",
    "    separator = \"\\n\\n\",\n",
    "    chunk_size = 100,\n",
    "    chunk_overlap = 0,\n",
    "    length_function = len,\n",
    ")\n",
    "\n",
    "index = VectorstoreIndexCreator(\n",
    "    vectorstore_cls=Chroma, # Default\n",
    "    embedding=OpenAIEmbeddings(), # Default\n",
    "    text_splitter=text_splitter,\n",
    ").from_loaders([loader])\n",
    "\n",
    "query = \"Q1. １日中外に出ていれば、必ず何処かで一度は何に出会いますか？\"\n",
    "print(f\"\\n\\n{query}\")\n",
    "answer = index.query(query)\n",
    "print(answer)\n",
    "\n",
    "# answer_with_sources = index.query_with_sources(query)\n",
    "# print(answer_with_sources)\n",
    "\n",
    "# query = \"Q2. GPT4は第何世代のモデル？\"\n",
    "# print(f\"\\n\\n{query}\")\n",
    "# answer = index.query(query)\n",
    "# print(answer)\n",
    "\n",
    "# answer_with_sources = index.query_with_sources(query)\n",
    "# print(answer_with_sources)\n"
   ]
  },
  {
   "cell_type": "code",
   "execution_count": 12,
   "metadata": {},
   "outputs": [
    {
     "name": "stdout",
     "output_type": "stream",
     "text": [
      "\n",
      "\n",
      "Q2. 警備業とはどんな存在ですか？\n",
      " 警備業は社会の縁の下で活躍する存在であり、私たちの安全を守り、社会を支える役割を担っています。しかし、高齢化や人材流入の低迷などの問題を抱えており、若い人材の流入を妨げるイメージがあります。それにもかかわらず、コロナ禍でも需要は減らず、むしろ増加傾向にあります。私たちは新たな価値を提供することで、警備業の重要性を再認識し、若い人材の流入を促すことを目指しています。\n"
     ]
    }
   ],
   "source": [
    "query = \"Q2. 警備業とはどんな存在ですか？\"\n",
    "print(f\"\\n\\n{query}\")\n",
    "answer = index.query(query)\n",
    "print(answer)"
   ]
  }
 ],
 "metadata": {
  "kernelspec": {
   "display_name": "nnn_genai_webapp",
   "language": "python",
   "name": "python3"
  },
  "language_info": {
   "codemirror_mode": {
    "name": "ipython",
    "version": 3
   },
   "file_extension": ".py",
   "mimetype": "text/x-python",
   "name": "python",
   "nbconvert_exporter": "python",
   "pygments_lexer": "ipython3",
   "version": "3.12.4"
  }
 },
 "nbformat": 4,
 "nbformat_minor": 2
}
